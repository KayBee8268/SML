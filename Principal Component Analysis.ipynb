{
  "cells": [
    {
      "cell_type": "markdown",
      "metadata": {
        "id": "wHmjsqt2A6K0"
      },
      "source": [
        "\n",
        "**Question 2**\n",
        "\n",
        "Used MNIST dataset to perform following tasks:\n",
        "*   Applying PCA(using sklearn) on the given data with the hyperparameter\n",
        "n components = 15, 8, 3\n",
        "*   Applying LDA(use sklearn) on the transformed data.\n",
        "*   Plotting Accuracy vs n Components\n"
      ]
    },
    {
      "cell_type": "code",
      "execution_count": null,
      "metadata": {
        "id": "VW3jCPu3Gm8d"
      },
      "outputs": [],
      "source": [
        "import gzip\n",
        "from sklearn.decomposition import PCA\n",
        "\n",
        "def images_file_read(file_name):\n",
        "    with gzip.open(file_name, 'r') as f:\n",
        "        magic_number = int.from_bytes(f.read(4), 'big')\n",
        "        image_count = int.from_bytes(f.read(4), 'big')\n",
        "        row_count = int.from_bytes(f.read(4), 'big')\n",
        "        column_count = int.from_bytes(f.read(4), 'big')\n",
        "\n",
        "        image_data = f.read()\n",
        "        images = np.frombuffer(image_data, dtype=np.uint8)\\\n",
        "            .reshape((image_count, row_count, column_count))\n",
        "        return images\n",
        "\n",
        "def labels_file_read(file_name):\n",
        "    with gzip.open(file_name, 'r') as f:\n",
        "        magic_number = int.from_bytes(f.read(4), 'big')\n",
        "        label_count = int.from_bytes(f.read(4), 'big')\n",
        "        label_data = f.read()\n",
        "        labels = np.frombuffer(label_data, dtype=np.uint8)\n",
        "        return labels\n",
        "\n",
        "train_x = images_file_read(\"/content/drive/MyDrive/train-images-idx3-ubyte.gz\")\n",
        "train_y = labels_file_read(\"/content/drive/MyDrive/train-labels-idx1-ubyte.gz\")\n",
        "test_x = images_file_read(\"/content/drive/MyDrive/t10k-images-idx3-ubyte.gz\")\n",
        "test_y = labels_file_read(\"/content/drive/MyDrive/t10k-labels-idx1-ubyte.gz\")\n",
        "\n",
        "train_x = train_x.reshape(train_x.shape[0],784)\n",
        "test_x = test_x.reshape(test_x.shape[0],784)\n",
        "\n",
        "def Q2(x,train_x,test_x):\n",
        "  p=PCA(n_components=x)\n",
        "  p.fit(train_x)\n",
        "  train_x=p.transform(train_x)\n",
        "  test_x=p.transform(test_x)\n",
        "  \n",
        "  lda = LinearDiscriminantAnalysis()\n",
        "  train_x = lda.fit(train_x, train_y)\n",
        "  y_pred=lda.predict(test_x)\n",
        "\n",
        "  # train_x = lda.fit_transform(train_x, train_y)\n",
        "  # test_x = lda.transform(test_x)\n",
        "  # classifier = RandomForestClassifier()\n",
        "  # classifier.fit(train_x, train_y)\n",
        "  # y_pred = classifier.predict(test_x)\n",
        "\n",
        "  # print('Accuracy : ' + str(accuracy_score(test_y, y_pred)))\n",
        "  # conf_m = confusion_matrix(test_y, y_pred)\n",
        "\n",
        "  # for i in range(0,10):\n",
        "  #   sum=0\n",
        "  #   for j in range(0,10):\n",
        "  #     sum+=conf_m[i][j]\n",
        "  #   print(str(i) + ' Accuracy : ' + str(conf_m[i][i]/sum))\n",
        "\n",
        "  return accuracy_score(test_y, y_pred)"
      ]
    },
    {
      "cell_type": "code",
      "execution_count": null,
      "metadata": {
        "colab": {
          "base_uri": "https://localhost:8080/",
          "height": 280
        },
        "id": "HJoQzwliEWNR",
        "outputId": "748db0e2-c83d-4326-8e5a-ef2d89d9f199"
      },
      "outputs": [
        {
          "data": {
            "image/png": "[encoded data removed]",
            "text/plain": [
              "<Figure size 432x288 with 1 Axes>"
            ]
          },
          "metadata": {
            "needs_background": "light"
          },
          "output_type": "display_data"
        }
      ],
      "source": [
        "X=[15,8,3]\n",
        "Y=[Q2(15,train_x,test_x),Q2(8,train_x,test_x),Q2(3,train_x,test_x)]\n",
        "\n",
        "plt.plot(X,Y)\n",
        "\n",
        "plt.xlabel('n_components')\n",
        "plt.ylabel('accurracy')\n",
        "\n",
        "plt.show()"
      ]
    }
  ],
  "metadata": {
    "colab": {
      "name": "SML_Assignment3.ipynb",
      "provenance": []
    },
    "kernelspec": {
      "display_name": "Python 3",
      "name": "python3"
    },
    "language_info": {
      "name": "python"
    }
  },
  "nbformat": 4,
  "nbformat_minor": 0
}
