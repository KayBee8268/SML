{
  "nbformat": 4,
  "nbformat_minor": 0,
  "metadata": {
    "colab": {
      "name": "SML_Assignment4.ipynb",
      "provenance": []
    },
    "kernelspec": {
      "name": "python3",
      "display_name": "Python 3"
    },
    "language_info": {
      "name": "python"
    }
  },
  "cells": [
    {
      "cell_type": "markdown",
      "source": [
        "Used FMNIST(Fashion MNIST)dataset to do the following:\n",
        "\n",
        "Create a Feed Forward Neural Network where\n",
        "\n",
        "• Input layer has 784 nodes and output layer have appropriate number of node(10)\n",
        "\n",
        "• Used Multiclass Cross Entropy loss function, Stochastic Gradient\n",
        "descent(SGD) optimizer and random weight initialization techniques\n",
        "to train the model.\n",
        "\n",
        "• Reported all the hyperparameters that you have assumed like batch size,learning rate etc.\n",
        "\n",
        "• Plotted epoch wise training loss and Reported testing accuracy."
      ],
      "metadata": {
        "id": "lmArqWJIIcSh"
      }
    },
    {
      "cell_type": "code",
      "execution_count": null,
      "metadata": {
        "id": "qo8_znU5VsGS"
      },
      "outputs": [],
      "source": [
        "import numpy as np\n",
        "import gzip\n",
        "import sys\n",
        "import pickle as cPickle\n",
        "from tensorflow import keras\n",
        "from keras.datasets import mnist\n",
        "from keras.layers import Dropout\n",
        "from matplotlib import pyplot as plt\n",
        "from keras.callbacks import EarlyStopping\n",
        "\n",
        "from keras.models import Sequential\n",
        "from keras.layers import Dense, Activation\n",
        "from tensorflow.keras.utils import to_categorical\n",
        "from sklearn.metrics import classification_report\n",
        "from keras import initializers\n",
        "from keras import optimizers\n",
        "from matplotlib import pyplot\n",
        "from keras.callbacks import ModelCheckpoint\n",
        "from keras.models import load_model\n",
        "from keras.preprocessing.image import ImageDataGenerator\n",
        "from keras.datasets import cifar10\n",
        "from tensorflow.keras.layers import BatchNormalization\n",
        "from array import array\n",
        "\n",
        "#Q2\n",
        "#unpacking the images\n",
        "def images_file_read(file_name):\n",
        "    with gzip.open(file_name, 'r') as f:\n",
        "        magic_number = int.from_bytes(f.read(4), 'big')\n",
        "        image_count = int.from_bytes(f.read(4), 'big')\n",
        "        row_count = int.from_bytes(f.read(4), 'big')\n",
        "        column_count = int.from_bytes(f.read(4), 'big')\n",
        "\n",
        "        image_data = f.read()\n",
        "        images = np.frombuffer(image_data, dtype=np.uint8)\\\n",
        "            .reshape((image_count, row_count, column_count))\n",
        "        return images\n",
        "\n",
        "def labels_file_read(file_name):\n",
        "    with gzip.open(file_name, 'r') as f:\n",
        "        magic_number = int.from_bytes(f.read(4), 'big')\n",
        "        label_count = int.from_bytes(f.read(4), 'big')\n",
        "        label_data = f.read()\n",
        "        labels = np.frombuffer(label_data, dtype=np.uint8)\n",
        "        return labels\n",
        "\n",
        "train_images = images_file_read(\"/content/drive/MyDrive/train-images-idx3-ubyte.gz\")\n",
        "train_labels = labels_file_read(\"/content/drive/MyDrive/train-labels-idx1-ubyte.gz\")\n",
        "test_imagesall = images_file_read(\"/content/drive/MyDrive/t10k-images-idx3-ubyte.gz\")\n",
        "test_labelsall = labels_file_read(\"/content/drive/MyDrive/t10k-labels-idx1-ubyte.gz\")\n",
        "\n",
        "# dividing into validation set and test set\n",
        "val_images = test_imagesall[0:500,:,:]\n",
        "val_labels = test_labelsall[0:500]\n",
        "test_images = test_imagesall[500:,:,:]\n",
        "test_labels = test_labelsall[500:]\n",
        "\n",
        "#normalizing images\n",
        "train_images = (train_images / 255) - 0.5\n",
        "test_images = (test_images / 255) - 0.5\n",
        "val_images = (val_images / 255) - 0.5\n",
        "\n",
        "#flatening the images\n",
        "train_images = train_images.reshape((-1, 784))\n",
        "test_images = test_images.reshape((-1, 784))\n",
        "val_images = val_images.reshape((-1, 784))"
      ]
    },
    {
      "cell_type": "code",
      "source": [
        "# Model\n",
        "model = Sequential()\n",
        "model.add(Dense(784, input_dim=784))  #input layer\n",
        "\n",
        "#Hidden Layers\n",
        "model.add(Dense(64, input_dim=784, trainable=True,activation='relu', use_bias=True, kernel_initializer='random_normal', bias_initializer='zeros')) \n",
        "model.add(BatchNormalization())\n",
        "model.add(Activation(\"relu\"))\n",
        "\n",
        "model.add(Dense(10, trainable=True, activation='softmax')) # output layer\n",
        "\n",
        "#optimizer\n",
        "sgd = keras.optimizers.SGD(lr=0.01, momentum=0.9)\n",
        "model.compile(optimizer=sgd,loss='categorical_crossentropy',metrics=['accuracy'])\n",
        "\n",
        "model.summary()"
      ],
      "metadata": {
        "colab": {
          "base_uri": "https://localhost:8080/"
        },
        "id": "_mBchp16d2pW",
        "outputId": "7ac18bc0-9175-49c8-c376-06e3e34d4b88"
      },
      "execution_count": null,
      "outputs": [
        {
          "output_type": "stream",
          "name": "stdout",
          "text": [
            "Model: \"sequential_21\"\n",
            "_________________________________________________________________\n",
            " Layer (type)                Output Shape              Param #   \n",
            "=================================================================\n",
            " dense_63 (Dense)            (None, 784)               615440    \n",
            "                                                                 \n",
            " dense_64 (Dense)            (None, 64)                50240     \n",
            "                                                                 \n",
            " batch_normalization_21 (Bat  (None, 64)               256       \n",
            " chNormalization)                                                \n",
            "                                                                 \n",
            " activation_21 (Activation)  (None, 64)                0         \n",
            "                                                                 \n",
            " dense_65 (Dense)            (None, 10)                650       \n",
            "                                                                 \n",
            "=================================================================\n",
            "Total params: 666,586\n",
            "Trainable params: 666,458\n",
            "Non-trainable params: 128\n",
            "_________________________________________________________________\n"
          ]
        },
        {
          "output_type": "stream",
          "name": "stderr",
          "text": [
            "/usr/local/lib/python3.7/dist-packages/keras/optimizer_v2/gradient_descent.py:102: UserWarning: The `lr` argument is deprecated, use `learning_rate` instead.\n",
            "  super(SGD, self).__init__(name, **kwargs)\n"
          ]
        }
      ]
    },
    {
      "cell_type": "code",
      "source": [
        "es = EarlyStopping(monitor='val_loss', mode='min', verbose=1, patience = 5)\n",
        "mc = ModelCheckpoint('best_model.h5', monitor='val_accuracy', mode='max', verbose=1, save_best_only=True)\n",
        "\n",
        "# Training the model.\n",
        "history=model.fit(\n",
        "  train_images,\n",
        "  to_categorical(train_labels),\n",
        "  validation_data=(val_images, to_categorical(val_labels)),  \n",
        "  epochs=30,\n",
        "  batch_size=512,\n",
        "  shuffle = True,\n",
        "  callbacks=[es,mc]\n",
        ")"
      ],
      "metadata": {
        "colab": {
          "base_uri": "https://localhost:8080/"
        },
        "id": "DFONc_VYe9B8",
        "outputId": "b57867d5-39b2-4cb8-c841-bbeda437b95d"
      },
      "execution_count": null,
      "outputs": [
        {
          "output_type": "stream",
          "name": "stdout",
          "text": [
            "Epoch 1/30\n",
            "117/118 [============================>.] - ETA: 0s - loss: 0.5963 - accuracy: 0.8440\n",
            "Epoch 1: val_accuracy improved from -inf to 0.89800, saving model to best_model.h5\n",
            "118/118 [==============================] - 4s 31ms/step - loss: 0.5958 - accuracy: 0.8441 - val_loss: 0.4134 - val_accuracy: 0.8980\n",
            "Epoch 2/30\n",
            "117/118 [============================>.] - ETA: 0s - loss: 0.2605 - accuracy: 0.9315\n",
            "Epoch 2: val_accuracy improved from 0.89800 to 0.93000, saving model to best_model.h5\n",
            "118/118 [==============================] - 3s 29ms/step - loss: 0.2606 - accuracy: 0.9315 - val_loss: 0.3299 - val_accuracy: 0.9300\n",
            "Epoch 3/30\n",
            "117/118 [============================>.] - ETA: 0s - loss: 0.2015 - accuracy: 0.9453\n",
            "Epoch 3: val_accuracy improved from 0.93000 to 0.94000, saving model to best_model.h5\n",
            "118/118 [==============================] - 3s 29ms/step - loss: 0.2015 - accuracy: 0.9453 - val_loss: 0.2418 - val_accuracy: 0.9400\n",
            "Epoch 4/30\n",
            "117/118 [============================>.] - ETA: 0s - loss: 0.1670 - accuracy: 0.9549\n",
            "Epoch 4: val_accuracy improved from 0.94000 to 0.94800, saving model to best_model.h5\n",
            "118/118 [==============================] - 3s 30ms/step - loss: 0.1671 - accuracy: 0.9548 - val_loss: 0.1825 - val_accuracy: 0.9480\n",
            "Epoch 5/30\n",
            "117/118 [============================>.] - ETA: 0s - loss: 0.1454 - accuracy: 0.9609\n",
            "Epoch 5: val_accuracy improved from 0.94800 to 0.96400, saving model to best_model.h5\n",
            "118/118 [==============================] - 3s 29ms/step - loss: 0.1454 - accuracy: 0.9609 - val_loss: 0.1455 - val_accuracy: 0.9640\n",
            "Epoch 6/30\n",
            "117/118 [============================>.] - ETA: 0s - loss: 0.1277 - accuracy: 0.9653\n",
            "Epoch 6: val_accuracy did not improve from 0.96400\n",
            "118/118 [==============================] - 3s 29ms/step - loss: 0.1277 - accuracy: 0.9653 - val_loss: 0.1498 - val_accuracy: 0.9620\n",
            "Epoch 7/30\n",
            "117/118 [============================>.] - ETA: 0s - loss: 0.1154 - accuracy: 0.9684\n",
            "Epoch 7: val_accuracy improved from 0.96400 to 0.96800, saving model to best_model.h5\n",
            "118/118 [==============================] - 3s 30ms/step - loss: 0.1155 - accuracy: 0.9684 - val_loss: 0.1164 - val_accuracy: 0.9680\n",
            "Epoch 8/30\n",
            "118/118 [==============================] - ETA: 0s - loss: 0.1056 - accuracy: 0.9718\n",
            "Epoch 8: val_accuracy did not improve from 0.96800\n",
            "118/118 [==============================] - 4s 35ms/step - loss: 0.1056 - accuracy: 0.9718 - val_loss: 0.1269 - val_accuracy: 0.9580\n",
            "Epoch 9/30\n",
            "117/118 [============================>.] - ETA: 0s - loss: 0.0970 - accuracy: 0.9741\n",
            "Epoch 9: val_accuracy improved from 0.96800 to 0.97000, saving model to best_model.h5\n",
            "118/118 [==============================] - 5s 41ms/step - loss: 0.0970 - accuracy: 0.9741 - val_loss: 0.1041 - val_accuracy: 0.9700\n",
            "Epoch 10/30\n",
            "116/118 [============================>.] - ETA: 0s - loss: 0.0905 - accuracy: 0.9764\n",
            "Epoch 10: val_accuracy did not improve from 0.97000\n",
            "118/118 [==============================] - 5s 39ms/step - loss: 0.0906 - accuracy: 0.9764 - val_loss: 0.1236 - val_accuracy: 0.9640\n",
            "Epoch 11/30\n",
            "117/118 [============================>.] - ETA: 0s - loss: 0.0840 - accuracy: 0.9777\n",
            "Epoch 11: val_accuracy did not improve from 0.97000\n",
            "118/118 [==============================] - 4s 36ms/step - loss: 0.0839 - accuracy: 0.9777 - val_loss: 0.1119 - val_accuracy: 0.9700\n",
            "Epoch 12/30\n",
            "116/118 [============================>.] - ETA: 0s - loss: 0.0781 - accuracy: 0.9798\n",
            "Epoch 12: val_accuracy improved from 0.97000 to 0.97800, saving model to best_model.h5\n",
            "118/118 [==============================] - 4s 35ms/step - loss: 0.0782 - accuracy: 0.9798 - val_loss: 0.0862 - val_accuracy: 0.9780\n",
            "Epoch 13/30\n",
            "117/118 [============================>.] - ETA: 0s - loss: 0.0749 - accuracy: 0.9801\n",
            "Epoch 13: val_accuracy did not improve from 0.97800\n",
            "118/118 [==============================] - 3s 29ms/step - loss: 0.0749 - accuracy: 0.9801 - val_loss: 0.0954 - val_accuracy: 0.9720\n",
            "Epoch 14/30\n",
            "117/118 [============================>.] - ETA: 0s - loss: 0.0690 - accuracy: 0.9819\n",
            "Epoch 14: val_accuracy did not improve from 0.97800\n",
            "118/118 [==============================] - 3s 29ms/step - loss: 0.0691 - accuracy: 0.9818 - val_loss: 0.0879 - val_accuracy: 0.9720\n",
            "Epoch 15/30\n",
            "117/118 [============================>.] - ETA: 0s - loss: 0.0658 - accuracy: 0.9831\n",
            "Epoch 15: val_accuracy did not improve from 0.97800\n",
            "118/118 [==============================] - 3s 29ms/step - loss: 0.0658 - accuracy: 0.9830 - val_loss: 0.0820 - val_accuracy: 0.9780\n",
            "Epoch 16/30\n",
            "117/118 [============================>.] - ETA: 0s - loss: 0.0622 - accuracy: 0.9834\n",
            "Epoch 16: val_accuracy did not improve from 0.97800\n",
            "118/118 [==============================] - 3s 29ms/step - loss: 0.0623 - accuracy: 0.9834 - val_loss: 0.0761 - val_accuracy: 0.9760\n",
            "Epoch 17/30\n",
            "117/118 [============================>.] - ETA: 0s - loss: 0.0592 - accuracy: 0.9846\n",
            "Epoch 17: val_accuracy did not improve from 0.97800\n",
            "118/118 [==============================] - 3s 29ms/step - loss: 0.0592 - accuracy: 0.9846 - val_loss: 0.0889 - val_accuracy: 0.9720\n",
            "Epoch 18/30\n",
            "116/118 [============================>.] - ETA: 0s - loss: 0.0561 - accuracy: 0.9857\n",
            "Epoch 18: val_accuracy did not improve from 0.97800\n",
            "118/118 [==============================] - 3s 29ms/step - loss: 0.0561 - accuracy: 0.9857 - val_loss: 0.1027 - val_accuracy: 0.9700\n",
            "Epoch 19/30\n",
            "117/118 [============================>.] - ETA: 0s - loss: 0.0537 - accuracy: 0.9867\n",
            "Epoch 19: val_accuracy did not improve from 0.97800\n",
            "118/118 [==============================] - 3s 29ms/step - loss: 0.0537 - accuracy: 0.9867 - val_loss: 0.0992 - val_accuracy: 0.9760\n",
            "Epoch 20/30\n",
            "117/118 [============================>.] - ETA: 0s - loss: 0.0501 - accuracy: 0.9873\n",
            "Epoch 20: val_accuracy did not improve from 0.97800\n",
            "118/118 [==============================] - 3s 29ms/step - loss: 0.0501 - accuracy: 0.9873 - val_loss: 0.0853 - val_accuracy: 0.9720\n",
            "Epoch 21/30\n",
            "117/118 [============================>.] - ETA: 0s - loss: 0.0480 - accuracy: 0.9880\n",
            "Epoch 21: val_accuracy did not improve from 0.97800\n",
            "118/118 [==============================] - 3s 30ms/step - loss: 0.0481 - accuracy: 0.9880 - val_loss: 0.0958 - val_accuracy: 0.9640\n",
            "Epoch 21: early stopping\n"
          ]
        }
      ]
    },
    {
      "cell_type": "code",
      "source": [
        "# Evaluating the model.\n",
        "saved_model = load_model('best_model.h5')\n",
        "scores = saved_model.evaluate(\n",
        "  test_images,\n",
        "  to_categorical(test_labels)\n",
        ")\n",
        "\n",
        "print('Test accuracy:', scores[1])\n",
        "\n",
        "from matplotlib.pyplot import figure\n",
        "figure(figsize=(8, 6))\n",
        "plt.plot(history.history['loss'])\n",
        "plt.plot(history.history['val_loss'])\n",
        "plt.title('model loss')\n",
        "plt.ylabel('loss')\n",
        "plt.xlabel('epoch')\n",
        "plt.legend(['train', 'test'], loc='upper left')\n",
        "plt.show()"
      ],
      "metadata": {
        "colab": {
          "base_uri": "https://localhost:8080/",
          "height": 439
        },
        "id": "KzSDeTUqfTVs",
        "outputId": "19c978a2-59d1-4db3-9621-19a12bd4a790"
      },
      "execution_count": null,
      "outputs": [
        {
          "output_type": "stream",
          "name": "stdout",
          "text": [
            "297/297 [==============================] - 1s 4ms/step - loss: 0.1133 - accuracy: 0.9657\n",
            "Test accuracy: 0.9656842350959778\n"
          ]
        },
        {
          "output_type": "display_data",
          "data": {
            "text/plain": [
              "<Figure size 576x432 with 1 Axes>"
            ],
            "image/png": "[encoded data removed]"
          },
          "metadata": {
            "needs_background": "light"
          }
        }
      ]
    },
    {
      "cell_type": "markdown",
      "source": [
        "Test Accuracy: > 95%\n",
        "\n",
        "Hyper-Parameters assumed: \n",
        "*  Learning rate: 0.01\n",
        "*  Momentum: 0.9\n",
        "*  Epochs: 30\n",
        "*  Batch Size: 512\n",
        "\n",
        "\n",
        "\n",
        "\n",
        "\n"
      ],
      "metadata": {
        "id": "m0fr81uu-9nO"
      }
    }
  ]
}