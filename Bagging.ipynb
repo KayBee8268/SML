{
  "cells": [
    {
      "cell_type": "markdown",
      "metadata": {
        "id": "DeJ_IfRMRiO3"
      },
      "source": [
        "**Question 4**\n",
        "\n",
        "Use MNIST dataset and below instructions to solve this question.\n",
        "NOTE: Use of any bagging libraries are not allowed.\n",
        "• Create a Bagging or Bootstrap model where the bag size = 3 and the\n",
        "base model = DecisionTreeClassifier.\n",
        "• Use Majority voting techniques for final prediction.\n",
        "• Report accuracy and classwise accuracy on the testing dataset."
      ]
    },
    {
      "cell_type": "code",
      "execution_count": null,
      "metadata": {
        "id": "YcBKA9oISHcB"
      },
      "outputs": [],
      "source": [
        "import numpy as np\n",
        "import gzip\n",
        "import sys\n",
        "import pickle as cPickle\n",
        "from tensorflow import keras\n",
        "from keras.datasets import mnist\n",
        "from keras.layers import Dropout\n",
        "from matplotlib import pyplot as plt\n",
        "from keras.callbacks import EarlyStopping\n",
        "from keras.models import Sequential\n",
        "from keras.layers import Dense, Activation\n",
        "from tensorflow.keras.utils import to_categorical\n",
        "from sklearn.metrics import classification_report\n",
        "from keras import initializers\n",
        "from keras import optimizers\n",
        "from matplotlib import pyplot\n",
        "from keras.callbacks import ModelCheckpoint\n",
        "from keras.models import load_model\n",
        "from keras.preprocessing.image import ImageDataGenerator\n",
        "from tensorflow.keras.layers import BatchNormalization\n",
        "from array import array\n",
        "from sklearn.tree import DecisionTreeClassifier\n",
        "import random\n",
        "from scipy.stats import bernoulli\n",
        "from sklearn.metrics import accuracy_score\n",
        "from sklearn.metrics import confusion_matrix\n",
        "\n",
        "#Q4\n",
        "#unpacking the images\n",
        "def images_file_read(file_name):\n",
        "    with gzip.open(file_name, 'r') as f:\n",
        "        magic_number = int.from_bytes(f.read(4), 'big')\n",
        "        image_count = int.from_bytes(f.read(4), 'big')\n",
        "        row_count = int.from_bytes(f.read(4), 'big')\n",
        "        column_count = int.from_bytes(f.read(4), 'big')\n",
        "\n",
        "        image_data = f.read()\n",
        "        images = np.frombuffer(image_data, dtype=np.uint8)\\\n",
        "            .reshape((image_count, row_count, column_count))\n",
        "        return images\n",
        "\n",
        "def labels_file_read(file_name):\n",
        "    with gzip.open(file_name, 'r') as f:\n",
        "        magic_number = int.from_bytes(f.read(4), 'big')\n",
        "        label_count = int.from_bytes(f.read(4), 'big')\n",
        "        label_data = f.read()\n",
        "        labels = np.frombuffer(label_data, dtype=np.uint8)\n",
        "        return labels\n",
        "\n",
        "train_images = images_file_read(\"/content/drive/MyDrive/train-images-idx3-ubyte.gz\")\n",
        "train_labels = labels_file_read(\"/content/drive/MyDrive/train-labels-idx1-ubyte.gz\")\n",
        "test_images = images_file_read(\"/content/drive/MyDrive/t10k-images-idx3-ubyte.gz\")\n",
        "test_labels = labels_file_read(\"/content/drive/MyDrive/t10k-labels-idx1-ubyte.gz\")\n",
        "\n",
        "\n",
        "# #flatening the images\n",
        "train_images = train_images.reshape((-1, 784))\n",
        "test_images = test_images.reshape((-1, 784))\n"
      ]
    },
    {
      "cell_type": "code",
      "execution_count": null,
      "metadata": {
        "id": "5SXyu3i1x_fG"
      },
      "outputs": [],
      "source": [
        "\n",
        "def bag(test_images,test_labels):\n",
        "  bag_images=[]\n",
        "  bag_labels=[] \n",
        "  data=[]\n",
        "  data= bernoulli.rvs(size=50000,p=0.63)\n",
        "  for i in range(50000):\n",
        "    if data[i]==1:\n",
        "      bag_images.append(train_images[i])\n",
        "      bag_labels.append(train_labels[i])\n",
        "  bag_images=np.array(bag_images).reshape((-1,784))\n",
        "  return bag_images,bag_labels\n",
        "\n",
        "\n",
        "clf1 =  DecisionTreeClassifier(criterion='gini')\n",
        "clf2 =  DecisionTreeClassifier(criterion='gini')\n",
        "clf3 =  DecisionTreeClassifier(criterion='gini')\n",
        "\n",
        "t1=[]\n",
        "t2=[]\n",
        "t1,t2=bag(test_images,test_labels)\n",
        "clf1.fit(t1,t2)\n",
        "t1,t2=bag(test_images,test_labels)\n",
        "clf2.fit(t1,t2)\n",
        "t1,t2=bag(test_images,test_labels)\n",
        "clf3.fit(t1,t2)\n",
        "\n",
        "y_pred1=clf1.predict(test_images)\n",
        "y_pred2=clf2.predict(test_images)\n",
        "y_pred3=clf3.predict(test_images)\n",
        "y_pred=[]\n",
        "\n",
        "for i in range(10000):\n",
        "  if(y_pred1[i]==y_pred2[i] or y_pred2[i]==y_pred3[i]):\n",
        "    y_pred.append(y_pred2[i])\n",
        "\n",
        "  else:\n",
        "    y_pred.append(y_pred1[i])\n",
        "\n",
        "\n"
      ]
    },
    {
      "cell_type": "code",
      "execution_count": null,
      "metadata": {
        "colab": {
          "base_uri": "https://localhost:8080/"
        },
        "id": "HrsOUag7ofFl",
        "outputId": "12c5580d-de69-45ba-d4eb-e50dbb8b5a0f"
      },
      "outputs": [
        {
          "name": "stdout",
          "output_type": "stream",
          "text": [
            "Classwise Accuracy:\n",
            "Class  0  : 0.9581632653061225\n",
            "Class  1  : 0.9726872246696036\n",
            "Class  2  : 0.8682170542635659\n",
            "Class  3  : 0.8821782178217822\n",
            "Class  4  : 0.879837067209776\n",
            "Class  5  : 0.8419282511210763\n",
            "Class  6  : 0.9175365344467641\n",
            "Class  7  : 0.9046692607003891\n",
            "Class  8  : 0.8275154004106776\n",
            "Class  9  : 0.867195242814668\n",
            "Overall Accuracy 0.8935\n"
          ]
        }
      ],
      "source": [
        "matrix = confusion_matrix(test_labels, y_pred)\n",
        "cwa=matrix.diagonal()/matrix.sum(axis=1)\n",
        "\n",
        "print(\"Classwise Accuracy:\")\n",
        "for i in range(0,10):\n",
        "  print(\"Class \",i,\" :\",cwa[i])\n",
        "accuracy= accuracy_score(test_labels,y_pred)\n",
        "print(\"Overall Accuracy\",accuracy)"
      ]
    }
  ],
  "metadata": {
    "colab": {
      "collapsed_sections": [],
      "name": "SML_Assignment4.ipynb",
      "provenance": []
    },
    "kernelspec": {
      "display_name": "Python 3",
      "name": "python3"
    },
    "language_info": {
      "name": "python"
    }
  },
  "nbformat": 4,
  "nbformat_minor": 0
}
